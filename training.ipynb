{
 "cells": [
  {
   "cell_type": "code",
   "execution_count": 1,
   "metadata": {},
   "outputs": [
    {
     "name": "stdout",
     "output_type": "stream",
     "text": [
      "[[0 0 0 0 0 0 0 1 1 1 1 0 1 0 0 0 0 0 0 0]]\n"
     ]
    }
   ],
   "source": [
    "import pandas as pd\n",
    "from sklearn import tree\n",
    "from sklearn.tree import DecisionTreeClassifier\n",
    "\n",
    "\n",
    "activities_data = pd.read_csv('activitiesData.csv')\n",
    "\n",
    "\n",
    "X = activities_data[['Age', 'Gender', 'nightorday']]\n",
    "y = activities_data.drop(columns=['Age', 'Gender', 'nightorday'])\n",
    "\n",
    "model = DecisionTreeClassifier()\n",
    "model.fit(X, y)\n",
    "\n",
    "prediction_input = pd.DataFrame([[89, 2, 2]], columns=['Age', 'Gender', 'nightorday'])\n",
    "predictions = model.predict(prediction_input)\n",
    "\n",
    "print(predictions)\n"
   ]
  },
  {
   "cell_type": "code",
   "execution_count": null,
   "metadata": {},
   "outputs": [],
   "source": [
    "    if predictions.any() == 0:\n",
    "      activities_list = []  # Set activities_list to empty if any prediction is 0\n",
    "    else:\n",
    "      for i in range(len(predictions) - 1, -1, -1):\n",
    "          if predictions[i] == 0:\n",
    "              activities_list.remove(activities_list[i])\n",
    "    print(activities_list)"
   ]
  }
 ],
 "metadata": {
  "kernelspec": {
   "display_name": "MLtesting",
   "language": "python",
   "name": "python3"
  },
  "language_info": {
   "codemirror_mode": {
    "name": "ipython",
    "version": 3
   },
   "file_extension": ".py",
   "mimetype": "text/x-python",
   "name": "python",
   "nbconvert_exporter": "python",
   "pygments_lexer": "ipython3",
   "version": "3.10.14"
  }
 },
 "nbformat": 4,
 "nbformat_minor": 2
}
